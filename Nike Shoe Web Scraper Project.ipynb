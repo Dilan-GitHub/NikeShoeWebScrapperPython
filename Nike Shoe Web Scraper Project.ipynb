{
 "cells": [
  {
   "cell_type": "code",
   "execution_count": 56,
   "id": "2ed2a80a",
   "metadata": {},
   "outputs": [],
   "source": [
    "# Import libraries\n",
    "\n",
    "from bs4 import BeautifulSoup\n",
    "import requests\n",
    "import smtplib\n",
    "import time\n",
    "import datetime"
   ]
  },
  {
   "cell_type": "code",
   "execution_count": 57,
   "id": "e45f46b9",
   "metadata": {},
   "outputs": [
    {
     "name": "stdout",
     "output_type": "stream",
     "text": [
      "Nike Air Max SC Men's Shoes. Nike.com\n",
      "90\n"
     ]
    }
   ],
   "source": [
    "\n",
    "\n",
    "#Lets connect to the website and pull in the data\n",
    "\n",
    "URL = 'https://www.nike.com/t/air-max-sc-mens-shoes-LR42xg/HF4857-100'\n",
    "\n",
    "headers = {\"User-Agent\": \"Mozilla/5.0 (Macintosh; Intel Mac OS X 10_15_7) AppleWebKit/605.1.15 (KHTML, like Gecko) Version/17.3.1 Safari/605.1.15\"}\n",
    "\n",
    "page = requests.get(URL, headers=headers)\n",
    "\n",
    "\n",
    "soup1 = BeautifulSoup(page.content, 'html.parser')\n",
    "\n",
    "soup2 = BeautifulSoup(soup1.prettify(), 'html.parser')\n",
    "\n",
    "# Lets find the title of the webpage\n",
    "title = soup2.title.string.strip()\n",
    "\n",
    "print(title)\n",
    "\n",
    "# Lets find the price of the product\n",
    "price_element = soup2.find(\"div\", class_=\"product-price\")\n",
    "\n",
    "# Lets extract the price text from the element\n",
    "price_with_dollar_sign = price_element.text.strip()\n",
    "\n",
    "# Lets remove the dollar sign from the price\n",
    "price = price_with_dollar_sign.replace(\"$\", \"\").strip()\n",
    "\n",
    "print(price)\n"
   ]
  },
  {
   "cell_type": "code",
   "execution_count": 58,
   "id": "13585d39",
   "metadata": {},
   "outputs": [
    {
     "name": "stdout",
     "output_type": "stream",
     "text": [
      "2024-05-05\n"
     ]
    }
   ],
   "source": [
    "# Lets create a timestamp for the output to track when data was collected\n",
    "\n",
    "import datetime\n",
    "\n",
    "today = datetime.date.today()\n",
    "\n",
    "print(today)"
   ]
  },
  {
   "cell_type": "code",
   "execution_count": 59,
   "id": "e4a25e95",
   "metadata": {},
   "outputs": [],
   "source": [
    "# Lets create a CSV and write the ehaders and data into the file\n",
    "\n",
    "import csv\n",
    "\n",
    "# Define header and data\n",
    "header = ['Title', 'Price', 'Date']\n",
    "data = [title, price, today]\n",
    "\n",
    "# Write data to CSV file\n",
    "with open('NikeWebScraperDataset.csv', 'w', newline='', encoding='UTF8') as f:\n",
    "    writer = csv.writer(f)\n",
    "    writer.writerow(header)\n",
    "    writer.writerow(data)\n"
   ]
  },
  {
   "cell_type": "code",
   "execution_count": 60,
   "id": "49b65044",
   "metadata": {},
   "outputs": [],
   "source": [
    "# Lets append the data to the CSV \n",
    "\n",
    "with open('NikeWebScraperDataset.csv', 'a+', newline='', encoding='UTF8') as f:\n",
    "    writer = csv.writer(f)\n",
    "    writer.writerow(data)\n"
   ]
  },
  {
   "cell_type": "code",
   "execution_count": null,
   "id": "baa05e83",
   "metadata": {},
   "outputs": [],
   "source": [
    "# Now lets combine all of the above code into one function\n",
    "\n",
    "def check_price():\n",
    "    URL = 'https://www.nike.com/t/air-max-sc-mens-shoes-LR42xg/HF4857-100'\n",
    "\n",
    "    headers = {\"User-Agent\": \"Mozilla/5.0 (Macintosh; Intel Mac OS X 10_15_7) AppleWebKit/605.1.15 (KHTML, like Gecko) Version/17.3.1 Safari/605.1.15\"}\n",
    "\n",
    "    page = requests.get(URL, headers=headers)\n",
    "    \n",
    "    soup1 = BeautifulSoup(page.content, 'html.parser')\n",
    "\n",
    "    soup2 = BeautifulSoup(soup1.prettify(), 'html.parser')\n",
    "\n",
    "    title = soup2.title.string.strip()\n",
    "\n",
    "    print(title)\n",
    "\n",
    "    price_element = soup2.find(\"div\", class_=\"product-price\")\n",
    "\n",
    "    price_with_dollar_sign = price_element.text.strip()\n",
    "\n",
    "    price = price_with_dollar_sign.replace(\"$\", \"\").strip()\n",
    "\n",
    "    print(price)\n",
    "    \n",
    "    import datetime\n",
    "\n",
    "    today = datetime.date.today()\n",
    "    \n",
    "    import csv\n",
    "\n",
    "    header = ['Title', 'Price', 'Date']\n",
    "    data = [title, price, today]\n",
    "    \n",
    "    with open('NikeWebScraperDataset.csv', 'a+', newline='', encoding='UTF8') as f:\n",
    "        writer = csv.writer(f)\n",
    "        writer.writerow(data)\n",
    "        \n",
    "    if price< 80:\n",
    "        send_mail()\n"
   ]
  },
  {
   "cell_type": "code",
   "execution_count": null,
   "id": "8a285e68",
   "metadata": {},
   "outputs": [],
   "source": [
    "# Will run check_price after a set time and inputs data into the CSV\n",
    "\n",
    "while(True):\n",
    "    check_price()\n",
    "    time.sleep(86000)"
   ]
  },
  {
   "cell_type": "code",
   "execution_count": null,
   "id": "3abe9d5d",
   "metadata": {},
   "outputs": [],
   "source": [
    "#We will send ourself an email when the price hits below $80\n",
    "\n",
    "def send_mail():\n",
    "\n",
    "    server = smtplib.SMTP_SSL('smtp.gmail.com', 465)\n",
    "    server.ehlo()\n",
    "    server.login('hamawandydilan@gmail.com', 'xxxxxxxxxxxxxx')\n",
    "    \n",
    "    recipient_email = 'hamawandydilan@gmail.com' \n",
    "    \n",
    "    subject = \"The Nike shoes you want to purchase are finally under $80\"\n",
    "    body = \"The Nike Air Max SC is now available for less than $80. Here is a link to purchase: https://www.nike.com/t/air-max-sc-mens-shoes-LR42xg/HF4857-100\"\n",
    "    \n",
    "    msg = f\"Subject: {subject}\\n\\n{body}\"\n",
    "    \n",
    "    server.sendmail(\n",
    "        'hamawandydilan@gmail.com', \n",
    "        recipient_email, \n",
    "        msg\n",
    "    )\n"
   ]
  },
  {
   "cell_type": "code",
   "execution_count": null,
   "id": "6cc1774b",
   "metadata": {},
   "outputs": [],
   "source": []
  }
 ],
 "metadata": {
  "kernelspec": {
   "display_name": "Python 3 (ipykernel)",
   "language": "python",
   "name": "python3"
  },
  "language_info": {
   "codemirror_mode": {
    "name": "ipython",
    "version": 3
   },
   "file_extension": ".py",
   "mimetype": "text/x-python",
   "name": "python",
   "nbconvert_exporter": "python",
   "pygments_lexer": "ipython3",
   "version": "3.11.7"
  }
 },
 "nbformat": 4,
 "nbformat_minor": 5
}
